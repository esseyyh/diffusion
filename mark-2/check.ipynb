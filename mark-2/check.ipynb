{
 "cells": [
  {
   "cell_type": "code",
   "execution_count": 1,
   "metadata": {},
   "outputs": [],
   "source": [
    "import torch\n",
    "import os\n",
    "import csv\n",
    "from torch.utils.data import Dataset, DataLoader\n",
    "import torchvision.transforms as transforms\n",
    "import matplotlib.pyplot as plt\n",
    "import numpy as np\n",
    "import PIL\n",
    "from PIL import Image\n",
    "from transformers import CLIPTokenizer\n"
   ]
  },
  {
   "cell_type": "code",
   "execution_count": 2,
   "metadata": {},
   "outputs": [],
   "source": [
    "from ldm.dpm.ddpm import DDPM\n",
    "from ldm.vae.encoder import Encoder\n",
    "from ldm.vae.decoder import Decoder\n",
    "from  ldm.clip.cliper import CLIP"
   ]
  },
  {
   "cell_type": "code",
   "execution_count": 17,
   "metadata": {},
   "outputs": [],
   "source": [
    "class ImageDataset(Dataset):\n",
    "    def __init__(self, root_dir, csv_file):\n",
    "        self.root_dir = root_dir\n",
    "        self.csv_file = csv_file\n",
    "        gen=torch.Generator()\n",
    "        self.diff=DDPM(gen)\n",
    "        self.tokenizer = CLIPTokenizer(\"utils/vocab.json\", merges_file=\"utils/merges.txt\")\n",
    "\n",
    "        self.txt_encoder=CLIP()\n",
    "        \n",
    "        self.time_steps=int(self.diff.num_train_timesteps)\n",
    "        self.encoder=Encoder()\n",
    "        self.transform= transforms.Compose([\n",
    "            transforms.Lambda(lambda t: (t/255)),\n",
    "            transforms.Lambda(lambda t: (t * 2) - 1),\n",
    "            transforms.Lambda(lambda t: t.permute([2,0,1])), # Scale data between [-1, 1] \n",
    "])\n",
    "\n",
    "\n",
    "\n",
    "        with open(self.csv_file, \"r\") as f:\n",
    "            reader = csv.reader(f)\n",
    "            self.image_paths = []\n",
    "            self.txt=[]\n",
    "            \n",
    "            for row in reader:\n",
    "                image,txt = row[1], row[3]\n",
    "                self.image_paths.append(os.path.join(self.root_dir,image))\n",
    "                self.txt.append(txt)\n",
    "                \n",
    "                \n",
    "              \n",
    "\n",
    "    def __len__(self):\n",
    "        return len(self.image_paths)\n",
    "\n",
    "    def __getitem__(self, index):\n",
    "        image = self.image_paths[index]\n",
    "\n",
    "        \n",
    "        t = torch.randint(0, self.time_steps,(1,))\n",
    "\n",
    "        image = torch.from_numpy(np.array((Image.open(image))))\n",
    "        image=(self.transform(image)).unsqueeze(0)\n",
    "        print(image.shape)\n",
    "        \n",
    "\n",
    "        with torch.no_grad():\n",
    "        \n",
    "            noisy_image=self.diff.add_noise(image,t)\n",
    "            noisy_image=self.encoder(noisy_image)\n",
    "            text_guiance=self.txt_encoder(self.tokenizer.batch_encode_plus([self.txt[index]],padding=\"max_length\", max_length=77).input_ids)\n",
    "            \n",
    "\n",
    "        \n",
    "   \n",
    "\n",
    "        return image,self.encoder(noisy_image),t,text_guiance\n",
    "\n",
    "\n"
   ]
  },
  {
   "cell_type": "code",
   "execution_count": 18,
   "metadata": {},
   "outputs": [],
   "source": [
    "bloc=ImageDataset(\"/home/essey/datastore/ViT-512\",\"/home/essey/datastore/csv-files/joined-data-512-2.csv\")"
   ]
  },
  {
   "cell_type": "code",
   "execution_count": 19,
   "metadata": {},
   "outputs": [
    {
     "name": "stdout",
     "output_type": "stream",
     "text": [
      "torch.Size([1, 3, 512, 512])\n"
     ]
    },
    {
     "ename": "RuntimeError",
     "evalue": "permute(sparse_coo): number of dimensions in the tensor input does not match the length of the desired ordering of dimensions i.e. input.dim() = 4 is not equal to len(dims) = 3",
     "output_type": "error",
     "traceback": [
      "\u001b[0;31m---------------------------------------------------------------------------\u001b[0m",
      "\u001b[0;31mRuntimeError\u001b[0m                              Traceback (most recent call last)",
      "Cell \u001b[0;32mIn[19], line 1\u001b[0m\n\u001b[0;32m----> 1\u001b[0m \u001b[43mbloc\u001b[49m\u001b[43m[\u001b[49m\u001b[38;5;241;43m1\u001b[39;49m\u001b[43m]\u001b[49m\n",
      "Cell \u001b[0;32mIn[17], line 50\u001b[0m, in \u001b[0;36mImageDataset.__getitem__\u001b[0;34m(self, index)\u001b[0m\n\u001b[1;32m     45\u001b[0m \u001b[38;5;28mprint\u001b[39m(image\u001b[38;5;241m.\u001b[39mshape)\n\u001b[1;32m     48\u001b[0m \u001b[38;5;28;01mwith\u001b[39;00m torch\u001b[38;5;241m.\u001b[39mno_grad():\n\u001b[0;32m---> 50\u001b[0m     image \u001b[38;5;241m=\u001b[39m \u001b[38;5;28;43mself\u001b[39;49m\u001b[38;5;241;43m.\u001b[39;49m\u001b[43mtransform\u001b[49m\u001b[43m(\u001b[49m\u001b[43mimage\u001b[49m\u001b[43m)\u001b[49m\n\u001b[1;32m     51\u001b[0m     noisy_image\u001b[38;5;241m=\u001b[39m\u001b[38;5;28mself\u001b[39m\u001b[38;5;241m.\u001b[39mdiff\u001b[38;5;241m.\u001b[39madd_noise(image,t)\n\u001b[1;32m     52\u001b[0m     noisy_image\u001b[38;5;241m=\u001b[39m\u001b[38;5;28mself\u001b[39m\u001b[38;5;241m.\u001b[39mencoder(noisy_image)\n",
      "File \u001b[0;32m~/miniconda3/envs/mephisto_v1/lib/python3.9/site-packages/torchvision/transforms/transforms.py:95\u001b[0m, in \u001b[0;36mCompose.__call__\u001b[0;34m(self, img)\u001b[0m\n\u001b[1;32m     93\u001b[0m \u001b[38;5;28;01mdef\u001b[39;00m \u001b[38;5;21m__call__\u001b[39m(\u001b[38;5;28mself\u001b[39m, img):\n\u001b[1;32m     94\u001b[0m     \u001b[38;5;28;01mfor\u001b[39;00m t \u001b[38;5;129;01min\u001b[39;00m \u001b[38;5;28mself\u001b[39m\u001b[38;5;241m.\u001b[39mtransforms:\n\u001b[0;32m---> 95\u001b[0m         img \u001b[38;5;241m=\u001b[39m \u001b[43mt\u001b[49m\u001b[43m(\u001b[49m\u001b[43mimg\u001b[49m\u001b[43m)\u001b[49m\n\u001b[1;32m     96\u001b[0m     \u001b[38;5;28;01mreturn\u001b[39;00m img\n",
      "File \u001b[0;32m~/miniconda3/envs/mephisto_v1/lib/python3.9/site-packages/torchvision/transforms/transforms.py:486\u001b[0m, in \u001b[0;36mLambda.__call__\u001b[0;34m(self, img)\u001b[0m\n\u001b[1;32m    485\u001b[0m \u001b[38;5;28;01mdef\u001b[39;00m \u001b[38;5;21m__call__\u001b[39m(\u001b[38;5;28mself\u001b[39m, img):\n\u001b[0;32m--> 486\u001b[0m     \u001b[38;5;28;01mreturn\u001b[39;00m \u001b[38;5;28;43mself\u001b[39;49m\u001b[38;5;241;43m.\u001b[39;49m\u001b[43mlambd\u001b[49m\u001b[43m(\u001b[49m\u001b[43mimg\u001b[49m\u001b[43m)\u001b[49m\n",
      "Cell \u001b[0;32mIn[17], line 16\u001b[0m, in \u001b[0;36mImageDataset.__init__.<locals>.<lambda>\u001b[0;34m(t)\u001b[0m\n\u001b[1;32m     11\u001b[0m         \u001b[38;5;28mself\u001b[39m\u001b[38;5;241m.\u001b[39mtime_steps\u001b[38;5;241m=\u001b[39m\u001b[38;5;28mint\u001b[39m(\u001b[38;5;28mself\u001b[39m\u001b[38;5;241m.\u001b[39mdiff\u001b[38;5;241m.\u001b[39mnum_train_timesteps)\n\u001b[1;32m     12\u001b[0m         \u001b[38;5;28mself\u001b[39m\u001b[38;5;241m.\u001b[39mencoder\u001b[38;5;241m=\u001b[39mEncoder()\n\u001b[1;32m     13\u001b[0m         \u001b[38;5;28mself\u001b[39m\u001b[38;5;241m.\u001b[39mtransform\u001b[38;5;241m=\u001b[39m transforms\u001b[38;5;241m.\u001b[39mCompose([\n\u001b[1;32m     14\u001b[0m             transforms\u001b[38;5;241m.\u001b[39mLambda(\u001b[38;5;28;01mlambda\u001b[39;00m t: (t\u001b[38;5;241m/\u001b[39m\u001b[38;5;241m255\u001b[39m)),\n\u001b[1;32m     15\u001b[0m             transforms\u001b[38;5;241m.\u001b[39mLambda(\u001b[38;5;28;01mlambda\u001b[39;00m t: (t \u001b[38;5;241m*\u001b[39m \u001b[38;5;241m2\u001b[39m) \u001b[38;5;241m-\u001b[39m \u001b[38;5;241m1\u001b[39m),\n\u001b[0;32m---> 16\u001b[0m             transforms\u001b[38;5;241m.\u001b[39mLambda(\u001b[38;5;28;01mlambda\u001b[39;00m t: \u001b[43mt\u001b[49m\u001b[38;5;241;43m.\u001b[39;49m\u001b[43mpermute\u001b[49m\u001b[43m(\u001b[49m\u001b[43m[\u001b[49m\u001b[38;5;241;43m2\u001b[39;49m\u001b[43m,\u001b[49m\u001b[38;5;241;43m0\u001b[39;49m\u001b[43m,\u001b[49m\u001b[38;5;241;43m1\u001b[39;49m\u001b[43m]\u001b[49m\u001b[43m)\u001b[49m), \u001b[38;5;66;03m# Scale data between [-1, 1] \u001b[39;00m\n\u001b[1;32m     17\u001b[0m ])\n\u001b[1;32m     21\u001b[0m         \u001b[38;5;28;01mwith\u001b[39;00m \u001b[38;5;28mopen\u001b[39m(\u001b[38;5;28mself\u001b[39m\u001b[38;5;241m.\u001b[39mcsv_file, \u001b[38;5;124m\"\u001b[39m\u001b[38;5;124mr\u001b[39m\u001b[38;5;124m\"\u001b[39m) \u001b[38;5;28;01mas\u001b[39;00m f:\n\u001b[1;32m     22\u001b[0m             reader \u001b[38;5;241m=\u001b[39m csv\u001b[38;5;241m.\u001b[39mreader(f)\n",
      "\u001b[0;31mRuntimeError\u001b[0m: permute(sparse_coo): number of dimensions in the tensor input does not match the length of the desired ordering of dimensions i.e. input.dim() = 4 is not equal to len(dims) = 3"
     ]
    }
   ],
   "source": [
    "bloc[1]"
   ]
  },
  {
   "cell_type": "code",
   "execution_count": 4,
   "metadata": {},
   "outputs": [],
   "source": [
    "tokenizer = CLIPTokenizer(\"utils/vocab.json\", merges_file=\"utils/merges.txt\")"
   ]
  },
  {
   "cell_type": "code",
   "execution_count": 9,
   "metadata": {},
   "outputs": [],
   "source": [
    "with torch.no_grad():\n",
    "    bloc1=Encoder()\n",
    "    #bloc1=torch.load('data/encoder_params.pt')\n",
    "    v=torch.randn(1,3,512,512)\n",
    "    v=bloc1(v)\n",
    "    "
   ]
  },
  {
   "cell_type": "code",
   "execution_count": 10,
   "metadata": {},
   "outputs": [
    {
     "data": {
      "text/plain": [
       "torch.Size([1, 4, 64, 64])"
      ]
     },
     "execution_count": 10,
     "metadata": {},
     "output_type": "execute_result"
    }
   ],
   "source": [
    "v.shape"
   ]
  },
  {
   "cell_type": "code",
   "execution_count": 11,
   "metadata": {},
   "outputs": [],
   "source": [
    "prompt=\"the quick brown fox jumps over the lazy hound\""
   ]
  },
  {
   "cell_type": "code",
   "execution_count": 12,
   "metadata": {},
   "outputs": [],
   "source": [
    "token_prompt=tokenizer.batch_encode_plus(\n",
    "                [prompt], padding=\"max_length\", max_length=77\n",
    "            ).input_ids"
   ]
  },
  {
   "cell_type": "code",
   "execution_count": 13,
   "metadata": {},
   "outputs": [
    {
     "data": {
      "text/plain": [
       "[[49406,\n",
       "  518,\n",
       "  3712,\n",
       "  2866,\n",
       "  3240,\n",
       "  18911,\n",
       "  962,\n",
       "  518,\n",
       "  10753,\n",
       "  13561,\n",
       "  49407,\n",
       "  49407,\n",
       "  49407,\n",
       "  49407,\n",
       "  49407,\n",
       "  49407,\n",
       "  49407,\n",
       "  49407,\n",
       "  49407,\n",
       "  49407,\n",
       "  49407,\n",
       "  49407,\n",
       "  49407,\n",
       "  49407,\n",
       "  49407,\n",
       "  49407,\n",
       "  49407,\n",
       "  49407,\n",
       "  49407,\n",
       "  49407,\n",
       "  49407,\n",
       "  49407,\n",
       "  49407,\n",
       "  49407,\n",
       "  49407,\n",
       "  49407,\n",
       "  49407,\n",
       "  49407,\n",
       "  49407,\n",
       "  49407,\n",
       "  49407,\n",
       "  49407,\n",
       "  49407,\n",
       "  49407,\n",
       "  49407,\n",
       "  49407,\n",
       "  49407,\n",
       "  49407,\n",
       "  49407,\n",
       "  49407,\n",
       "  49407,\n",
       "  49407,\n",
       "  49407,\n",
       "  49407,\n",
       "  49407,\n",
       "  49407,\n",
       "  49407,\n",
       "  49407,\n",
       "  49407,\n",
       "  49407,\n",
       "  49407,\n",
       "  49407,\n",
       "  49407,\n",
       "  49407,\n",
       "  49407,\n",
       "  49407,\n",
       "  49407,\n",
       "  49407,\n",
       "  49407,\n",
       "  49407,\n",
       "  49407,\n",
       "  49407,\n",
       "  49407,\n",
       "  49407,\n",
       "  49407,\n",
       "  49407,\n",
       "  49407]]"
      ]
     },
     "execution_count": 13,
     "metadata": {},
     "output_type": "execute_result"
    }
   ],
   "source": [
    "token_prompt"
   ]
  }
 ],
 "metadata": {
  "kernelspec": {
   "display_name": "mephisto_v1",
   "language": "python",
   "name": "python3"
  },
  "language_info": {
   "codemirror_mode": {
    "name": "ipython",
    "version": 3
   },
   "file_extension": ".py",
   "mimetype": "text/x-python",
   "name": "python",
   "nbconvert_exporter": "python",
   "pygments_lexer": "ipython3",
   "version": "3.9.0"
  }
 },
 "nbformat": 4,
 "nbformat_minor": 2
}
