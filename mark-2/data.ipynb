{
 "cells": [
  {
   "cell_type": "code",
   "execution_count": 109,
   "metadata": {},
   "outputs": [],
   "source": [
    "import pandas as pd\n"
   ]
  },
  {
   "cell_type": "code",
   "execution_count": 110,
   "metadata": {},
   "outputs": [],
   "source": [
    "df=pd.read_csv('/home/essey/datastore/csv-files/joined-data-512.csv')"
   ]
  },
  {
   "cell_type": "code",
   "execution_count": 111,
   "metadata": {},
   "outputs": [
    {
     "data": {
      "text/html": [
       "<div>\n",
       "<style scoped>\n",
       "    .dataframe tbody tr th:only-of-type {\n",
       "        vertical-align: middle;\n",
       "    }\n",
       "\n",
       "    .dataframe tbody tr th {\n",
       "        vertical-align: top;\n",
       "    }\n",
       "\n",
       "    .dataframe thead th {\n",
       "        text-align: right;\n",
       "    }\n",
       "</style>\n",
       "<table border=\"1\" class=\"dataframe\">\n",
       "  <thead>\n",
       "    <tr style=\"text-align: right;\">\n",
       "      <th></th>\n",
       "      <th>image_name</th>\n",
       "      <th>image_depth_name</th>\n",
       "      <th>caption</th>\n",
       "    </tr>\n",
       "  </thead>\n",
       "  <tbody>\n",
       "    <tr>\n",
       "      <th>0</th>\n",
       "      <td>1_2_image.jpg</td>\n",
       "      <td>1_2_depthmap.jpg</td>\n",
       "      <td>NaN</td>\n",
       "    </tr>\n",
       "    <tr>\n",
       "      <th>1</th>\n",
       "      <td>1_3_image.jpg</td>\n",
       "      <td>1_3_depthmap.jpg</td>\n",
       "      <td>NaN</td>\n",
       "    </tr>\n",
       "    <tr>\n",
       "      <th>2</th>\n",
       "      <td>1_4_image.jpg</td>\n",
       "      <td>1_4_depthmap.jpg</td>\n",
       "      <td>NaN</td>\n",
       "    </tr>\n",
       "    <tr>\n",
       "      <th>3</th>\n",
       "      <td>1_5_image.jpg</td>\n",
       "      <td>1_5_depthmap.jpg</td>\n",
       "      <td>NaN</td>\n",
       "    </tr>\n",
       "    <tr>\n",
       "      <th>4</th>\n",
       "      <td>1_6_image.jpg</td>\n",
       "      <td>1_6_depthmap.jpg</td>\n",
       "      <td>NaN</td>\n",
       "    </tr>\n",
       "    <tr>\n",
       "      <th>5</th>\n",
       "      <td>1_7_image.jpg</td>\n",
       "      <td>1_7_depthmap.jpg</td>\n",
       "      <td>NaN</td>\n",
       "    </tr>\n",
       "    <tr>\n",
       "      <th>6</th>\n",
       "      <td>1_8_image.jpg</td>\n",
       "      <td>1_8_depthmap.jpg</td>\n",
       "      <td>NaN</td>\n",
       "    </tr>\n",
       "    <tr>\n",
       "      <th>7</th>\n",
       "      <td>1_9_image.jpg</td>\n",
       "      <td>1_9_depthmap.jpg</td>\n",
       "      <td>NaN</td>\n",
       "    </tr>\n",
       "    <tr>\n",
       "      <th>8</th>\n",
       "      <td>1_10_image.jpg</td>\n",
       "      <td>1_10_depthmap.jpg</td>\n",
       "      <td>NaN</td>\n",
       "    </tr>\n",
       "    <tr>\n",
       "      <th>9</th>\n",
       "      <td>1_11_image.jpg</td>\n",
       "      <td>1_11_depthmap.jpg</td>\n",
       "      <td>NaN</td>\n",
       "    </tr>\n",
       "  </tbody>\n",
       "</table>\n",
       "</div>"
      ],
      "text/plain": [
       "       image_name   image_depth_name  caption\n",
       "0   1_2_image.jpg   1_2_depthmap.jpg      NaN\n",
       "1   1_3_image.jpg   1_3_depthmap.jpg      NaN\n",
       "2   1_4_image.jpg   1_4_depthmap.jpg      NaN\n",
       "3   1_5_image.jpg   1_5_depthmap.jpg      NaN\n",
       "4   1_6_image.jpg   1_6_depthmap.jpg      NaN\n",
       "5   1_7_image.jpg   1_7_depthmap.jpg      NaN\n",
       "6   1_8_image.jpg   1_8_depthmap.jpg      NaN\n",
       "7   1_9_image.jpg   1_9_depthmap.jpg      NaN\n",
       "8  1_10_image.jpg  1_10_depthmap.jpg      NaN\n",
       "9  1_11_image.jpg  1_11_depthmap.jpg      NaN"
      ]
     },
     "execution_count": 111,
     "metadata": {},
     "output_type": "execute_result"
    }
   ],
   "source": [
    "df.head(10)"
   ]
  },
  {
   "cell_type": "code",
   "execution_count": 112,
   "metadata": {},
   "outputs": [],
   "source": [
    "names=df['image_name'][:]"
   ]
  },
  {
   "cell_type": "code",
   "execution_count": 113,
   "metadata": {},
   "outputs": [
    {
     "data": {
      "text/plain": [
       "0     1_2_image.jpg\n",
       "1     1_3_image.jpg\n",
       "2     1_4_image.jpg\n",
       "3     1_5_image.jpg\n",
       "4     1_6_image.jpg\n",
       "5     1_7_image.jpg\n",
       "6     1_8_image.jpg\n",
       "7     1_9_image.jpg\n",
       "8    1_10_image.jpg\n",
       "9    1_11_image.jpg\n",
       "Name: image_name, dtype: object"
      ]
     },
     "execution_count": 113,
     "metadata": {},
     "output_type": "execute_result"
    }
   ],
   "source": [
    "names.head(10)"
   ]
  },
  {
   "cell_type": "code",
   "execution_count": 114,
   "metadata": {},
   "outputs": [],
   "source": [
    "v=df['caption'][:]\n"
   ]
  },
  {
   "cell_type": "code",
   "execution_count": 115,
   "metadata": {},
   "outputs": [
    {
     "data": {
      "text/plain": [
       "0   NaN\n",
       "1   NaN\n",
       "2   NaN\n",
       "3   NaN\n",
       "4   NaN\n",
       "5   NaN\n",
       "6   NaN\n",
       "7   NaN\n",
       "8   NaN\n",
       "9   NaN\n",
       "Name: caption, dtype: float64"
      ]
     },
     "execution_count": 115,
     "metadata": {},
     "output_type": "execute_result"
    }
   ],
   "source": [
    "v.head(10)"
   ]
  },
  {
   "cell_type": "code",
   "execution_count": 103,
   "metadata": {},
   "outputs": [],
   "source": [
    "\n",
    "for i in range(7994):\n",
    "    "
   ]
  },
  {
   "cell_type": "code",
   "execution_count": 120,
   "metadata": {},
   "outputs": [
    {
     "data": {
      "text/plain": [
       "0                             a smiling face,smiling \n",
       "1                        streching his mouth, grining\n",
       "2                   an angry face, angry expressions \n",
       "3                        a face showing his left jaw \n",
       "4                     a face showing his right jaw  ,\n",
       "                            ...                      \n",
       "7989                      a grining expression, grin \n",
       "7990         cheeks blown, a face blowing thier chees\n",
       "7991                  a  face with thier eyes closed \n",
       "7992    a face raising thier brows, eye brows rasied \n",
       "7993                an expression lowering thier brow\n",
       "Name: caption, Length: 7994, dtype: object"
      ]
     },
     "execution_count": 120,
     "metadata": {},
     "output_type": "execute_result"
    }
   ],
   "source": [
    "v"
   ]
  },
  {
   "cell_type": "code",
   "execution_count": 118,
   "metadata": {},
   "outputs": [],
   "source": [
    "for i in range(7994):\n",
    "    b=names[i]\n",
    "    b=b.split('_', 3)\n",
    "    case_number=int(b[1])\n",
    "    if case_number == 1:\n",
    "        # Code for case 1\n",
    "        v[i]=\"a nuetral face, no emotion \"\n",
    "    elif case_number== 2:\n",
    "        # Code for case 2\n",
    "        v[i]=\"a smiling face,smiling \"\n",
    "    elif case_number == 3:\n",
    "        # Code for case 3\n",
    "        v[i]=\"streching his mouth, grining\"\n",
    "    elif case_number== 4:\n",
    "        # Code for case 2\n",
    "        v[i]=\"an angry face, angry expressions \"\n",
    "    elif case_number == 5:\n",
    "        # Code for case 3\n",
    "        v[i]=\"a face showing his left jaw \"\n",
    "    elif case_number == 6:\n",
    "        # Code for case 2\n",
    "        v[i]=\"  a face showing his right jaw  ,\"\n",
    "    elif case_number == 7:\n",
    "        # Code for case 3\n",
    "        v[i]=\"a face showing his  jaw forward ,\"\n",
    "    elif case_number == 8:\n",
    "        # Code for case 2\n",
    "        v[i]=\"a face streching his mouth left \"\n",
    "    elif case_number == 9:\n",
    "        # Code for case 3\n",
    "        v[i]=\"a face streching his mouth right\"\n",
    "    elif case_number == 10:\n",
    "        # Code for case 2\n",
    "        v[i]=\"a face showing his dimple \"\n",
    "    elif case_number == 11:\n",
    "        # Code for case 3\n",
    "        v[i]=\"a face raising his chin \"\n",
    "    elif case_number == 12:\n",
    "        # Code for case 3\n",
    "        v[i]=\"a face puckering his lip\"\n",
    "    elif case_number == 13:\n",
    "        # Code for case 3\n",
    "        v[i]=\"a face making a funnel with his mouth \"\n",
    "    elif case_number == 14:\n",
    "        # Code for case 3\n",
    "        v[i]=\"a face emitating a sad expression \"\n",
    "    elif case_number == 15:\n",
    "        # Code for case 3\n",
    "        v[i]=\"an expression of rolling thier lip \"\n",
    "    elif case_number == 16:\n",
    "        # Code for case 3\n",
    "        v[i]=\"a grining expression, grin \"\n",
    "    elif case_number == 17:\n",
    "        # Code for case 3\n",
    "        v[i]=\"cheeks blown, a face blowing thier chees\"\n",
    "    elif case_number == 18:\n",
    "        # Code for case 3\n",
    "        v[i]=\"a  face with thier eyes closed \"\n",
    "    elif case_number == 19:\n",
    "        # Code for case 3\n",
    "        v[i]=\"a face raising thier brows, eye brows rasied \"\n",
    "    elif case_number == 20:\n",
    "        # Code for case 3\n",
    "        v[i]=\"an expression lowering thier brow\"\n",
    "   \n",
    "  \n"
   ]
  },
  {
   "cell_type": "code",
   "execution_count": 122,
   "metadata": {},
   "outputs": [],
   "source": [
    "df['caption']=v"
   ]
  },
  {
   "cell_type": "code",
   "execution_count": 123,
   "metadata": {},
   "outputs": [
    {
     "data": {
      "text/html": [
       "<div>\n",
       "<style scoped>\n",
       "    .dataframe tbody tr th:only-of-type {\n",
       "        vertical-align: middle;\n",
       "    }\n",
       "\n",
       "    .dataframe tbody tr th {\n",
       "        vertical-align: top;\n",
       "    }\n",
       "\n",
       "    .dataframe thead th {\n",
       "        text-align: right;\n",
       "    }\n",
       "</style>\n",
       "<table border=\"1\" class=\"dataframe\">\n",
       "  <thead>\n",
       "    <tr style=\"text-align: right;\">\n",
       "      <th></th>\n",
       "      <th>image_name</th>\n",
       "      <th>image_depth_name</th>\n",
       "      <th>caption</th>\n",
       "    </tr>\n",
       "  </thead>\n",
       "  <tbody>\n",
       "    <tr>\n",
       "      <th>0</th>\n",
       "      <td>1_2_image.jpg</td>\n",
       "      <td>1_2_depthmap.jpg</td>\n",
       "      <td>a smiling face,smiling</td>\n",
       "    </tr>\n",
       "    <tr>\n",
       "      <th>1</th>\n",
       "      <td>1_3_image.jpg</td>\n",
       "      <td>1_3_depthmap.jpg</td>\n",
       "      <td>streching his mouth, grining</td>\n",
       "    </tr>\n",
       "    <tr>\n",
       "      <th>2</th>\n",
       "      <td>1_4_image.jpg</td>\n",
       "      <td>1_4_depthmap.jpg</td>\n",
       "      <td>an angry face, angry expressions</td>\n",
       "    </tr>\n",
       "    <tr>\n",
       "      <th>3</th>\n",
       "      <td>1_5_image.jpg</td>\n",
       "      <td>1_5_depthmap.jpg</td>\n",
       "      <td>a face showing his left jaw</td>\n",
       "    </tr>\n",
       "    <tr>\n",
       "      <th>4</th>\n",
       "      <td>1_6_image.jpg</td>\n",
       "      <td>1_6_depthmap.jpg</td>\n",
       "      <td>a face showing his right jaw  ,</td>\n",
       "    </tr>\n",
       "    <tr>\n",
       "      <th>5</th>\n",
       "      <td>1_7_image.jpg</td>\n",
       "      <td>1_7_depthmap.jpg</td>\n",
       "      <td>a face showing his  jaw forward ,</td>\n",
       "    </tr>\n",
       "    <tr>\n",
       "      <th>6</th>\n",
       "      <td>1_8_image.jpg</td>\n",
       "      <td>1_8_depthmap.jpg</td>\n",
       "      <td>a face streching his mouth left</td>\n",
       "    </tr>\n",
       "    <tr>\n",
       "      <th>7</th>\n",
       "      <td>1_9_image.jpg</td>\n",
       "      <td>1_9_depthmap.jpg</td>\n",
       "      <td>a face streching his mouth right</td>\n",
       "    </tr>\n",
       "    <tr>\n",
       "      <th>8</th>\n",
       "      <td>1_10_image.jpg</td>\n",
       "      <td>1_10_depthmap.jpg</td>\n",
       "      <td>a face showing his dimple</td>\n",
       "    </tr>\n",
       "    <tr>\n",
       "      <th>9</th>\n",
       "      <td>1_11_image.jpg</td>\n",
       "      <td>1_11_depthmap.jpg</td>\n",
       "      <td>a face raising his chin</td>\n",
       "    </tr>\n",
       "  </tbody>\n",
       "</table>\n",
       "</div>"
      ],
      "text/plain": [
       "       image_name   image_depth_name                            caption\n",
       "0   1_2_image.jpg   1_2_depthmap.jpg            a smiling face,smiling \n",
       "1   1_3_image.jpg   1_3_depthmap.jpg       streching his mouth, grining\n",
       "2   1_4_image.jpg   1_4_depthmap.jpg  an angry face, angry expressions \n",
       "3   1_5_image.jpg   1_5_depthmap.jpg       a face showing his left jaw \n",
       "4   1_6_image.jpg   1_6_depthmap.jpg    a face showing his right jaw  ,\n",
       "5   1_7_image.jpg   1_7_depthmap.jpg  a face showing his  jaw forward ,\n",
       "6   1_8_image.jpg   1_8_depthmap.jpg   a face streching his mouth left \n",
       "7   1_9_image.jpg   1_9_depthmap.jpg   a face streching his mouth right\n",
       "8  1_10_image.jpg  1_10_depthmap.jpg         a face showing his dimple \n",
       "9  1_11_image.jpg  1_11_depthmap.jpg           a face raising his chin "
      ]
     },
     "execution_count": 123,
     "metadata": {},
     "output_type": "execute_result"
    }
   ],
   "source": [
    "df.head(10)\n"
   ]
  },
  {
   "cell_type": "code",
   "execution_count": 124,
   "metadata": {},
   "outputs": [],
   "source": [
    "df.to_csv('/home/essey/datastore/csv-files/joined-data-512-2.csv')"
   ]
  }
 ],
 "metadata": {
  "kernelspec": {
   "display_name": "mephisto_v1",
   "language": "python",
   "name": "python3"
  },
  "language_info": {
   "codemirror_mode": {
    "name": "ipython",
    "version": 3
   },
   "file_extension": ".py",
   "mimetype": "text/x-python",
   "name": "python",
   "nbconvert_exporter": "python",
   "pygments_lexer": "ipython3",
   "version": "3.9.0"
  }
 },
 "nbformat": 4,
 "nbformat_minor": 2
}
